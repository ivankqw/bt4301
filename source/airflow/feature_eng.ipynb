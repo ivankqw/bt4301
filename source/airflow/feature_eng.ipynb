{
 "cells": [
  {
   "cell_type": "code",
   "execution_count": 23,
   "metadata": {},
   "outputs": [],
   "source": [
    "import pandas as pd\n",
    "cpi_df = pd.read_csv('dags/data/cpi.csv')\n",
    "\n",
    "def create_lag_sma_ema(df):\n",
    "    #create lag columns for df\n",
    "    df['cpi_lag1'] = df['Value'].shift(1)\n",
    "    df['cpi_lag3'] = df['Value'].shift(2)\n",
    "    df['cpi_lag6'] = df['Value'].shift(3)\n",
    "    df['cpi_lag12'] = df['Value'].shift(12)\n",
    "\n",
    "    # create simple moving average columns for df\n",
    "    df['cpi_sma3'] = df['Value'].rolling(window=3).mean()\n",
    "    df['cpi_sma6'] = df['Value'].rolling(window=6).mean()\n",
    "    df['cpi_sma12'] = df['Value'].rolling(window=12).mean()\n",
    "\n",
    "    # create exponential moving average columns for df\n",
    "    df['cpi_ema3'] = df['Value'].ewm(span=3, adjust=False).mean()\n",
    "    df['cpi_ema6'] = df['Value'].ewm(span=6, adjust=False).mean()\n",
    "    df['cpi_ema12'] = df['Value'].ewm(span=12, adjust=False).mean()\n",
    "    return df\n",
    "\n",
    "\n",
    "df = create_lag_sma_ema(cpi_df)\n",
    "df.to_csv('data/cpi_with_lag_sma_ema.csv', index=False)"
   ]
  }
 ],
 "metadata": {
  "kernelspec": {
   "display_name": "Python 3",
   "language": "python",
   "name": "python3"
  },
  "language_info": {
   "codemirror_mode": {
    "name": "ipython",
    "version": 3
   },
   "file_extension": ".py",
   "mimetype": "text/x-python",
   "name": "python",
   "nbconvert_exporter": "python",
   "pygments_lexer": "ipython3",
   "version": "3.12.2"
  }
 },
 "nbformat": 4,
 "nbformat_minor": 2
}
