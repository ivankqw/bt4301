{
 "cells": [
  {
   "cell_type": "code",
   "execution_count": 18,
   "metadata": {},
   "outputs": [],
   "source": [
    "import mlflow\n",
    "import numpy as np\n",
    "from scipy import stats"
   ]
  },
  {
   "cell_type": "markdown",
   "metadata": {},
   "source": [
    "python -m mlflow server --host 127.0.0.1 --port 8000"
   ]
  },
  {
   "cell_type": "markdown",
   "metadata": {},
   "source": [
    "## Monitoring"
   ]
  },
  {
   "cell_type": "markdown",
   "metadata": {},
   "source": [
    "### ground truth evaluation"
   ]
  },
  {
   "cell_type": "code",
   "execution_count": 14,
   "metadata": {},
   "outputs": [
    {
     "data": {
      "text/html": [
       "<div>\n",
       "<style scoped>\n",
       "    .dataframe tbody tr th:only-of-type {\n",
       "        vertical-align: middle;\n",
       "    }\n",
       "\n",
       "    .dataframe tbody tr th {\n",
       "        vertical-align: top;\n",
       "    }\n",
       "\n",
       "    .dataframe thead th {\n",
       "        text-align: right;\n",
       "    }\n",
       "</style>\n",
       "<table border=\"1\" class=\"dataframe\">\n",
       "  <thead>\n",
       "    <tr style=\"text-align: right;\">\n",
       "      <th></th>\n",
       "      <th>run_id</th>\n",
       "      <th>experiment_id</th>\n",
       "      <th>status</th>\n",
       "      <th>artifact_uri</th>\n",
       "      <th>start_time</th>\n",
       "      <th>end_time</th>\n",
       "      <th>metrics.MAPE</th>\n",
       "      <th>metrics.MAE</th>\n",
       "      <th>metrics.MSE</th>\n",
       "      <th>params.n_estimators</th>\n",
       "      <th>params.objective</th>\n",
       "      <th>tags.mlflow.runName</th>\n",
       "      <th>tags.mlflow.user</th>\n",
       "      <th>tags.feature</th>\n",
       "      <th>tags.mlflow.source.type</th>\n",
       "      <th>tags.model</th>\n",
       "      <th>tags.mlflow.source.name</th>\n",
       "      <th>tags.mlflow.log-model.history</th>\n",
       "    </tr>\n",
       "  </thead>\n",
       "  <tbody>\n",
       "    <tr>\n",
       "      <th>0</th>\n",
       "      <td>08f5fe0400f649b283b222fa850dc091</td>\n",
       "      <td>0</td>\n",
       "      <td>FINISHED</td>\n",
       "      <td>mlflow-artifacts:/0/08f5fe0400f649b283b222fa85...</td>\n",
       "      <td>2024-03-29 15:37:22.144000+00:00</td>\n",
       "      <td>2024-03-29 15:37:34.144000+00:00</td>\n",
       "      <td>0.782482</td>\n",
       "      <td>0.196303</td>\n",
       "      <td>0.070854</td>\n",
       "      <td>1000</td>\n",
       "      <td>reg:squarederror</td>\n",
       "      <td>resilient-cub-967</td>\n",
       "      <td>ivankoh</td>\n",
       "      <td>Resale Price Prediction</td>\n",
       "      <td>LOCAL</td>\n",
       "      <td>XGBoost</td>\n",
       "      <td>/Users/ivankoh/.local/lib/python3.9/site-packa...</td>\n",
       "      <td>[{\"run_id\": \"08f5fe0400f649b283b222fa850dc091\"...</td>\n",
       "    </tr>\n",
       "    <tr>\n",
       "      <th>1</th>\n",
       "      <td>7eba7d2fd2ae4f019ce155ba1338b95b</td>\n",
       "      <td>0</td>\n",
       "      <td>FINISHED</td>\n",
       "      <td>mlflow-artifacts:/0/7eba7d2fd2ae4f019ce155ba13...</td>\n",
       "      <td>2024-03-29 13:42:31.960000+00:00</td>\n",
       "      <td>2024-03-29 13:42:44.467000+00:00</td>\n",
       "      <td>0.782482</td>\n",
       "      <td>0.196303</td>\n",
       "      <td>0.070854</td>\n",
       "      <td>1000</td>\n",
       "      <td>reg:squarederror</td>\n",
       "      <td>casual-mule-437</td>\n",
       "      <td>ivankoh</td>\n",
       "      <td>Resale Price Prediction</td>\n",
       "      <td>LOCAL</td>\n",
       "      <td>XGBoost</td>\n",
       "      <td>/Users/ivankoh/.local/lib/python3.9/site-packa...</td>\n",
       "      <td>[{\"run_id\": \"7eba7d2fd2ae4f019ce155ba1338b95b\"...</td>\n",
       "    </tr>\n",
       "    <tr>\n",
       "      <th>2</th>\n",
       "      <td>68279395fa044d798337f962a4600287</td>\n",
       "      <td>0</td>\n",
       "      <td>FINISHED</td>\n",
       "      <td>mlflow-artifacts:/0/68279395fa044d798337f962a4...</td>\n",
       "      <td>2024-03-29 13:22:14.933000+00:00</td>\n",
       "      <td>2024-03-29 13:22:25.325000+00:00</td>\n",
       "      <td>0.782482</td>\n",
       "      <td>0.196303</td>\n",
       "      <td>0.070854</td>\n",
       "      <td>1000</td>\n",
       "      <td>reg:squarederror</td>\n",
       "      <td>masked-bat-604</td>\n",
       "      <td>ivankoh</td>\n",
       "      <td>Resale Price Prediction</td>\n",
       "      <td>LOCAL</td>\n",
       "      <td>XGBoost</td>\n",
       "      <td>/Users/ivankoh/.local/lib/python3.9/site-packa...</td>\n",
       "      <td>[{\"run_id\": \"68279395fa044d798337f962a4600287\"...</td>\n",
       "    </tr>\n",
       "    <tr>\n",
       "      <th>3</th>\n",
       "      <td>709239b403a44bef87a88a17ef5f4890</td>\n",
       "      <td>0</td>\n",
       "      <td>FINISHED</td>\n",
       "      <td>mlflow-artifacts:/0/709239b403a44bef87a88a17ef...</td>\n",
       "      <td>2024-03-29 13:20:52.053000+00:00</td>\n",
       "      <td>2024-03-29 13:21:05.995000+00:00</td>\n",
       "      <td>0.782482</td>\n",
       "      <td>0.196303</td>\n",
       "      <td>0.070854</td>\n",
       "      <td>1000</td>\n",
       "      <td>reg:squarederror</td>\n",
       "      <td>popular-gnat-419</td>\n",
       "      <td>ivankoh</td>\n",
       "      <td>Resale Price Prediction</td>\n",
       "      <td>LOCAL</td>\n",
       "      <td>XGBoost</td>\n",
       "      <td>/Users/ivankoh/.local/lib/python3.9/site-packa...</td>\n",
       "      <td>[{\"run_id\": \"709239b403a44bef87a88a17ef5f4890\"...</td>\n",
       "    </tr>\n",
       "    <tr>\n",
       "      <th>4</th>\n",
       "      <td>24f757752aa04c9380df54f2a0bd2695</td>\n",
       "      <td>0</td>\n",
       "      <td>FAILED</td>\n",
       "      <td>mlflow-artifacts:/0/24f757752aa04c9380df54f2a0...</td>\n",
       "      <td>2024-03-29 13:14:35.744000+00:00</td>\n",
       "      <td>2024-03-29 13:14:43.578000+00:00</td>\n",
       "      <td>0.782482</td>\n",
       "      <td>0.196303</td>\n",
       "      <td>0.070854</td>\n",
       "      <td>1000</td>\n",
       "      <td>reg:squarederror</td>\n",
       "      <td>redolent-steed-375</td>\n",
       "      <td>ivankoh</td>\n",
       "      <td>Resale Price Prediction</td>\n",
       "      <td>LOCAL</td>\n",
       "      <td>XGBoost</td>\n",
       "      <td>/Users/ivankoh/.local/lib/python3.9/site-packa...</td>\n",
       "      <td>None</td>\n",
       "    </tr>\n",
       "  </tbody>\n",
       "</table>\n",
       "</div>"
      ],
      "text/plain": [
       "                             run_id experiment_id    status  \\\n",
       "0  08f5fe0400f649b283b222fa850dc091             0  FINISHED   \n",
       "1  7eba7d2fd2ae4f019ce155ba1338b95b             0  FINISHED   \n",
       "2  68279395fa044d798337f962a4600287             0  FINISHED   \n",
       "3  709239b403a44bef87a88a17ef5f4890             0  FINISHED   \n",
       "4  24f757752aa04c9380df54f2a0bd2695             0    FAILED   \n",
       "\n",
       "                                        artifact_uri  \\\n",
       "0  mlflow-artifacts:/0/08f5fe0400f649b283b222fa85...   \n",
       "1  mlflow-artifacts:/0/7eba7d2fd2ae4f019ce155ba13...   \n",
       "2  mlflow-artifacts:/0/68279395fa044d798337f962a4...   \n",
       "3  mlflow-artifacts:/0/709239b403a44bef87a88a17ef...   \n",
       "4  mlflow-artifacts:/0/24f757752aa04c9380df54f2a0...   \n",
       "\n",
       "                        start_time                         end_time  \\\n",
       "0 2024-03-29 15:37:22.144000+00:00 2024-03-29 15:37:34.144000+00:00   \n",
       "1 2024-03-29 13:42:31.960000+00:00 2024-03-29 13:42:44.467000+00:00   \n",
       "2 2024-03-29 13:22:14.933000+00:00 2024-03-29 13:22:25.325000+00:00   \n",
       "3 2024-03-29 13:20:52.053000+00:00 2024-03-29 13:21:05.995000+00:00   \n",
       "4 2024-03-29 13:14:35.744000+00:00 2024-03-29 13:14:43.578000+00:00   \n",
       "\n",
       "   metrics.MAPE  metrics.MAE  metrics.MSE params.n_estimators  \\\n",
       "0      0.782482     0.196303     0.070854                1000   \n",
       "1      0.782482     0.196303     0.070854                1000   \n",
       "2      0.782482     0.196303     0.070854                1000   \n",
       "3      0.782482     0.196303     0.070854                1000   \n",
       "4      0.782482     0.196303     0.070854                1000   \n",
       "\n",
       "   params.objective tags.mlflow.runName tags.mlflow.user  \\\n",
       "0  reg:squarederror   resilient-cub-967          ivankoh   \n",
       "1  reg:squarederror     casual-mule-437          ivankoh   \n",
       "2  reg:squarederror      masked-bat-604          ivankoh   \n",
       "3  reg:squarederror    popular-gnat-419          ivankoh   \n",
       "4  reg:squarederror  redolent-steed-375          ivankoh   \n",
       "\n",
       "              tags.feature tags.mlflow.source.type tags.model  \\\n",
       "0  Resale Price Prediction                   LOCAL    XGBoost   \n",
       "1  Resale Price Prediction                   LOCAL    XGBoost   \n",
       "2  Resale Price Prediction                   LOCAL    XGBoost   \n",
       "3  Resale Price Prediction                   LOCAL    XGBoost   \n",
       "4  Resale Price Prediction                   LOCAL    XGBoost   \n",
       "\n",
       "                             tags.mlflow.source.name  \\\n",
       "0  /Users/ivankoh/.local/lib/python3.9/site-packa...   \n",
       "1  /Users/ivankoh/.local/lib/python3.9/site-packa...   \n",
       "2  /Users/ivankoh/.local/lib/python3.9/site-packa...   \n",
       "3  /Users/ivankoh/.local/lib/python3.9/site-packa...   \n",
       "4  /Users/ivankoh/.local/lib/python3.9/site-packa...   \n",
       "\n",
       "                       tags.mlflow.log-model.history  \n",
       "0  [{\"run_id\": \"08f5fe0400f649b283b222fa850dc091\"...  \n",
       "1  [{\"run_id\": \"7eba7d2fd2ae4f019ce155ba1338b95b\"...  \n",
       "2  [{\"run_id\": \"68279395fa044d798337f962a4600287\"...  \n",
       "3  [{\"run_id\": \"709239b403a44bef87a88a17ef5f4890\"...  \n",
       "4                                               None  "
      ]
     },
     "execution_count": 14,
     "metadata": {},
     "output_type": "execute_result"
    }
   ],
   "source": [
    "# check model history performance in mlflow through code\n",
    "\n",
    "# Get the model history\n",
    "model_history = mlflow.search_runs(\n",
    "    filter_string=\"tags.model='XGBoost'\"\n",
    "    )\n",
    "model_history"
   ]
  },
  {
   "cell_type": "code",
   "execution_count": 15,
   "metadata": {},
   "outputs": [
    {
     "data": {
      "text/plain": [
       "(0.19630337104889625, 0.7824820738738789, 0.07085355839569242)"
      ]
     },
     "execution_count": 15,
     "metadata": {},
     "output_type": "execute_result"
    }
   ],
   "source": [
    "model_history[\"metrics.MAE\"].mean(), model_history[\"metrics.MAPE\"].mean(), model_history[\"metrics.MSE\"].mean()"
   ]
  },
  {
   "cell_type": "code",
   "execution_count": null,
   "metadata": {},
   "outputs": [],
   "source": [
    "# get the past 3 days of predictions from the predictions table \n",
    "# get the corresponding predictions and ground truths (assume ground truths collected instantly after predictions are made)\n",
    "# calculate metrics and compare with training metrics, calculate difference and set threshold\n",
    "# if exceed threshold then notify the team"
   ]
  },
  {
   "cell_type": "markdown",
   "metadata": {},
   "source": [
    "### input drift - feature / label drift and concept drift"
   ]
  },
  {
   "cell_type": "markdown",
   "metadata": {},
   "source": [
    "https://dataaspirant.com/kolmogorov-smirnov-test/\n",
    "https://docs.scipy.org/doc/scipy/reference/generated/scipy.stats.kstest.html"
   ]
  },
  {
   "cell_type": "code",
   "execution_count": 19,
   "metadata": {},
   "outputs": [
    {
     "data": {
      "text/plain": [
       "KstestResult(statistic=0.5002783402085376, pvalue=1.1384334379677198e-23, statistic_location=0.0006976954932907953, statistic_sign=-1)"
      ]
     },
     "execution_count": 19,
     "metadata": {},
     "output_type": "execute_result"
    }
   ],
   "source": [
    "rng = np.random.default_rng()\n",
    "stats.kstest(stats.uniform.rvs(size=100, random_state=rng),\n",
    "             stats.norm.cdf)"
   ]
  },
  {
   "cell_type": "markdown",
   "metadata": {},
   "source": [
    "https://docs.scipy.org/doc/scipy/reference/generated/scipy.stats.chisquare.html"
   ]
  },
  {
   "cell_type": "code",
   "execution_count": 21,
   "metadata": {},
   "outputs": [
    {
     "data": {
      "text/plain": [
       "Power_divergenceResult(statistic=228.23515947653874, pvalue=3.329558533884649e-49)"
      ]
     },
     "execution_count": 21,
     "metadata": {},
     "output_type": "execute_result"
    }
   ],
   "source": [
    "f_exp = np.array([44, 24, 29, 3]) / 100 * 189\n",
    "f_obs = np.array([43, 52, 54, 40])\n",
    "stats.chisquare(f_obs=f_obs, f_exp=f_exp)"
   ]
  },
  {
   "cell_type": "code",
   "execution_count": null,
   "metadata": {},
   "outputs": [],
   "source": [
    "# for feature and label drift\n",
    "# do ks test for continuous univariate, chi sq test for categorical feature/labels"
   ]
  },
  {
   "cell_type": "markdown",
   "metadata": {},
   "source": [
    "## Feedback"
   ]
  }
 ],
 "metadata": {
  "kernelspec": {
   "display_name": "Python 3",
   "language": "python",
   "name": "python3"
  },
  "language_info": {
   "codemirror_mode": {
    "name": "ipython",
    "version": 3
   },
   "file_extension": ".py",
   "mimetype": "text/x-python",
   "name": "python",
   "nbconvert_exporter": "python",
   "pygments_lexer": "ipython3",
   "version": "3.11.3"
  }
 },
 "nbformat": 4,
 "nbformat_minor": 2
}
