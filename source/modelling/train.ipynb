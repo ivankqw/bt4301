{
 "cells": [
  {
   "cell_type": "markdown",
   "metadata": {},
   "source": [
    "## Preprocess"
   ]
  },
  {
   "cell_type": "code",
   "execution_count": 112,
   "metadata": {},
   "outputs": [],
   "source": [
    "import pandas as pd\n",
    "import numpy as np\n",
    "from datetime import datetime"
   ]
  },
  {
   "cell_type": "code",
   "execution_count": 113,
   "metadata": {},
   "outputs": [
    {
     "name": "stderr",
     "output_type": "stream",
     "text": [
      "/var/folders/dq/33rpc0cx4f54t0vx2cdcgczr0000gn/T/ipykernel_14591/292211018.py:1: DtypeWarning: Columns (14) have mixed types. Specify dtype option on import or set low_memory=False.\n",
      "  df = pd.read_csv('../airflow/dags/data/resale_flats_transformed.csv')\n"
     ]
    }
   ],
   "source": [
    "df = pd.read_csv('../airflow/dags/data/resale_flats_transformed.csv')"
   ]
  },
  {
   "cell_type": "code",
   "execution_count": 114,
   "metadata": {},
   "outputs": [
    {
     "data": {
      "text/html": [
       "<div>\n",
       "<style scoped>\n",
       "    .dataframe tbody tr th:only-of-type {\n",
       "        vertical-align: middle;\n",
       "    }\n",
       "\n",
       "    .dataframe tbody tr th {\n",
       "        vertical-align: top;\n",
       "    }\n",
       "\n",
       "    .dataframe thead th {\n",
       "        text-align: right;\n",
       "    }\n",
       "</style>\n",
       "<table border=\"1\" class=\"dataframe\">\n",
       "  <thead>\n",
       "    <tr style=\"text-align: right;\">\n",
       "      <th></th>\n",
       "      <th>_id</th>\n",
       "      <th>month</th>\n",
       "      <th>town</th>\n",
       "      <th>flat_type</th>\n",
       "      <th>block</th>\n",
       "      <th>street_name</th>\n",
       "      <th>storey_range</th>\n",
       "      <th>floor_area_sqm</th>\n",
       "      <th>flat_model</th>\n",
       "      <th>lease_commence_date</th>\n",
       "      <th>remaining_lease</th>\n",
       "      <th>resale_price</th>\n",
       "      <th>year</th>\n",
       "      <th>street_name_with_block</th>\n",
       "      <th>postal</th>\n",
       "      <th>x</th>\n",
       "      <th>y</th>\n",
       "      <th>lat</th>\n",
       "      <th>lon</th>\n",
       "      <th>district</th>\n",
       "    </tr>\n",
       "  </thead>\n",
       "  <tbody>\n",
       "    <tr>\n",
       "      <th>0</th>\n",
       "      <td>173917</td>\n",
       "      <td>3</td>\n",
       "      <td>ANG MO KIO</td>\n",
       "      <td>2 ROOM</td>\n",
       "      <td>172</td>\n",
       "      <td>ANG MO KIO AVE 4</td>\n",
       "      <td>01 TO 03</td>\n",
       "      <td>45.0</td>\n",
       "      <td>Improved</td>\n",
       "      <td>1986</td>\n",
       "      <td>60 years 11 months</td>\n",
       "      <td>300000.0</td>\n",
       "      <td>2024</td>\n",
       "      <td>172 ANG MO KIO AVE 4</td>\n",
       "      <td>560172</td>\n",
       "      <td>28349.920537</td>\n",
       "      <td>39632.219604</td>\n",
       "      <td>1.374694</td>\n",
       "      <td>103.836463</td>\n",
       "      <td>20.0</td>\n",
       "    </tr>\n",
       "    <tr>\n",
       "      <th>1</th>\n",
       "      <td>173918</td>\n",
       "      <td>3</td>\n",
       "      <td>ANG MO KIO</td>\n",
       "      <td>3 ROOM</td>\n",
       "      <td>308B</td>\n",
       "      <td>ANG MO KIO AVE 1</td>\n",
       "      <td>10 TO 12</td>\n",
       "      <td>70.0</td>\n",
       "      <td>Model A</td>\n",
       "      <td>2012</td>\n",
       "      <td>87 years 07 months</td>\n",
       "      <td>598000.0</td>\n",
       "      <td>2024</td>\n",
       "      <td>308B ANG MO KIO AVE 1</td>\n",
       "      <td>562308</td>\n",
       "      <td>29248.594650</td>\n",
       "      <td>38589.712063</td>\n",
       "      <td>1.365266</td>\n",
       "      <td>103.844538</td>\n",
       "      <td>20.0</td>\n",
       "    </tr>\n",
       "    <tr>\n",
       "      <th>2</th>\n",
       "      <td>173919</td>\n",
       "      <td>3</td>\n",
       "      <td>ANG MO KIO</td>\n",
       "      <td>3 ROOM</td>\n",
       "      <td>321</td>\n",
       "      <td>ANG MO KIO AVE 1</td>\n",
       "      <td>07 TO 09</td>\n",
       "      <td>73.0</td>\n",
       "      <td>New Generation</td>\n",
       "      <td>1977</td>\n",
       "      <td>52 years 02 months</td>\n",
       "      <td>415000.0</td>\n",
       "      <td>2024</td>\n",
       "      <td>321 ANG MO KIO AVE 1</td>\n",
       "      <td>560321</td>\n",
       "      <td>29712.235084</td>\n",
       "      <td>38575.906775</td>\n",
       "      <td>1.365141</td>\n",
       "      <td>103.848704</td>\n",
       "      <td>20.0</td>\n",
       "    </tr>\n",
       "    <tr>\n",
       "      <th>3</th>\n",
       "      <td>173920</td>\n",
       "      <td>3</td>\n",
       "      <td>ANG MO KIO</td>\n",
       "      <td>3 ROOM</td>\n",
       "      <td>307C</td>\n",
       "      <td>ANG MO KIO AVE 1</td>\n",
       "      <td>10 TO 12</td>\n",
       "      <td>70.0</td>\n",
       "      <td>Model A</td>\n",
       "      <td>2012</td>\n",
       "      <td>87 years 07 months</td>\n",
       "      <td>601888.0</td>\n",
       "      <td>2024</td>\n",
       "      <td>307C ANG MO KIO AVE 1</td>\n",
       "      <td>563307</td>\n",
       "      <td>29318.866042</td>\n",
       "      <td>38622.316735</td>\n",
       "      <td>1.365561</td>\n",
       "      <td>103.845169</td>\n",
       "      <td>20.0</td>\n",
       "    </tr>\n",
       "    <tr>\n",
       "      <th>4</th>\n",
       "      <td>173921</td>\n",
       "      <td>3</td>\n",
       "      <td>ANG MO KIO</td>\n",
       "      <td>3 ROOM</td>\n",
       "      <td>549</td>\n",
       "      <td>ANG MO KIO AVE 10</td>\n",
       "      <td>04 TO 06</td>\n",
       "      <td>68.0</td>\n",
       "      <td>New Generation</td>\n",
       "      <td>1981</td>\n",
       "      <td>55 years 11 months</td>\n",
       "      <td>380000.0</td>\n",
       "      <td>2024</td>\n",
       "      <td>549 ANG MO KIO AVE 10</td>\n",
       "      <td>560549</td>\n",
       "      <td>30681.283561</td>\n",
       "      <td>39463.114437</td>\n",
       "      <td>1.373165</td>\n",
       "      <td>103.857412</td>\n",
       "      <td>20.0</td>\n",
       "    </tr>\n",
       "  </tbody>\n",
       "</table>\n",
       "</div>"
      ],
      "text/plain": [
       "      _id  month        town flat_type block        street_name storey_range  \\\n",
       "0  173917      3  ANG MO KIO    2 ROOM   172   ANG MO KIO AVE 4     01 TO 03   \n",
       "1  173918      3  ANG MO KIO    3 ROOM  308B   ANG MO KIO AVE 1     10 TO 12   \n",
       "2  173919      3  ANG MO KIO    3 ROOM   321   ANG MO KIO AVE 1     07 TO 09   \n",
       "3  173920      3  ANG MO KIO    3 ROOM  307C   ANG MO KIO AVE 1     10 TO 12   \n",
       "4  173921      3  ANG MO KIO    3 ROOM   549  ANG MO KIO AVE 10     04 TO 06   \n",
       "\n",
       "   floor_area_sqm      flat_model  lease_commence_date     remaining_lease  \\\n",
       "0            45.0        Improved                 1986  60 years 11 months   \n",
       "1            70.0         Model A                 2012  87 years 07 months   \n",
       "2            73.0  New Generation                 1977  52 years 02 months   \n",
       "3            70.0         Model A                 2012  87 years 07 months   \n",
       "4            68.0  New Generation                 1981  55 years 11 months   \n",
       "\n",
       "   resale_price  year street_name_with_block  postal             x  \\\n",
       "0      300000.0  2024   172 ANG MO KIO AVE 4  560172  28349.920537   \n",
       "1      598000.0  2024  308B ANG MO KIO AVE 1  562308  29248.594650   \n",
       "2      415000.0  2024   321 ANG MO KIO AVE 1  560321  29712.235084   \n",
       "3      601888.0  2024  307C ANG MO KIO AVE 1  563307  29318.866042   \n",
       "4      380000.0  2024  549 ANG MO KIO AVE 10  560549  30681.283561   \n",
       "\n",
       "              y       lat         lon  district  \n",
       "0  39632.219604  1.374694  103.836463      20.0  \n",
       "1  38589.712063  1.365266  103.844538      20.0  \n",
       "2  38575.906775  1.365141  103.848704      20.0  \n",
       "3  38622.316735  1.365561  103.845169      20.0  \n",
       "4  39463.114437  1.373165  103.857412      20.0  "
      ]
     },
     "execution_count": 114,
     "metadata": {},
     "output_type": "execute_result"
    }
   ],
   "source": [
    "df.head()"
   ]
  },
  {
   "cell_type": "code",
   "execution_count": 115,
   "metadata": {},
   "outputs": [],
   "source": [
    "df.drop(['_id', 'town', 'street_name', 'street_name_with_block', 'postal', 'x', 'y', 'block', 'lease_commence_date'], axis=1, inplace=True)"
   ]
  },
  {
   "cell_type": "code",
   "execution_count": 116,
   "metadata": {},
   "outputs": [],
   "source": [
    "def convert_remaining_lease(x):\n",
    "    # example: \"60 years 11 months\"\n",
    "    try:\n",
    "        years = int(x.split(' ')[0])\n",
    "        months = int(x.split(' ')[2])\n",
    "    except IndexError:\n",
    "        # print(x)\n",
    "        return years * 12\n",
    "    total_months = years * 12 + months\n",
    "    return total_months\n",
    "\n",
    "df['remaining_lease'] = df['remaining_lease'].apply(convert_remaining_lease)"
   ]
  },
  {
   "cell_type": "code",
   "execution_count": 117,
   "metadata": {},
   "outputs": [],
   "source": [
    "def convert_date(x):\n",
    "    return datetime(x['year'], x['month'], 1)\n",
    "\n",
    "df['sale_date'] = df[['year', 'month']].apply(convert_date, axis=1)"
   ]
  },
  {
   "cell_type": "code",
   "execution_count": 118,
   "metadata": {},
   "outputs": [],
   "source": [
    "categorical_vars = ['flat_type', 'storey_range', 'flat_model', 'district', 'month']\n",
    "df = pd.get_dummies(df, columns=categorical_vars)"
   ]
  },
  {
   "cell_type": "markdown",
   "metadata": {},
   "source": [
    "## Merge with cpi and sibor"
   ]
  },
  {
   "cell_type": "code",
   "execution_count": 119,
   "metadata": {},
   "outputs": [],
   "source": [
    "# merge with cpi, sibor sora\n",
    "cpi = pd.read_csv('../airflow/dags/data/cpi_with_lag_sma_ema.csv')\n",
    "sibor = pd.read_csv('../airflow/dags/data/sibor_sora.csv')"
   ]
  },
  {
   "cell_type": "code",
   "execution_count": 120,
   "metadata": {},
   "outputs": [
    {
     "name": "stderr",
     "output_type": "stream",
     "text": [
      "/var/folders/dq/33rpc0cx4f54t0vx2cdcgczr0000gn/T/ipykernel_14591/2028583091.py:1: UserWarning: Could not infer format, so each element will be parsed individually, falling back to `dateutil`. To ensure parsing is consistent and as-expected, please specify a format.\n",
      "  sibor['SIBOR DATE'] = pd.to_datetime(sibor['SIBOR DATE'])\n"
     ]
    },
    {
     "data": {
      "text/html": [
       "<div>\n",
       "<style scoped>\n",
       "    .dataframe tbody tr th:only-of-type {\n",
       "        vertical-align: middle;\n",
       "    }\n",
       "\n",
       "    .dataframe tbody tr th {\n",
       "        vertical-align: top;\n",
       "    }\n",
       "\n",
       "    .dataframe thead th {\n",
       "        text-align: right;\n",
       "    }\n",
       "</style>\n",
       "<table border=\"1\" class=\"dataframe\">\n",
       "  <thead>\n",
       "    <tr style=\"text-align: right;\">\n",
       "      <th></th>\n",
       "      <th>SIBOR DATE</th>\n",
       "      <th>SIBOR 1M</th>\n",
       "      <th>SIBOR 3M</th>\n",
       "      <th>SIBOR 6M</th>\n",
       "      <th>SIBOR 12M</th>\n",
       "      <th>SOR ON</th>\n",
       "      <th>SOR 1M</th>\n",
       "      <th>SOR 3M</th>\n",
       "      <th>SOR 6M</th>\n",
       "    </tr>\n",
       "  </thead>\n",
       "  <tbody>\n",
       "    <tr>\n",
       "      <th>0</th>\n",
       "      <td>2014-02-01</td>\n",
       "      <td>0.35369</td>\n",
       "      <td>0.40267</td>\n",
       "      <td>0.48191</td>\n",
       "      <td>0.59728</td>\n",
       "      <td>0.04964</td>\n",
       "      <td>0.15485</td>\n",
       "      <td>0.22406</td>\n",
       "      <td>0.28566</td>\n",
       "    </tr>\n",
       "    <tr>\n",
       "      <th>1</th>\n",
       "      <td>2014-03-01</td>\n",
       "      <td>0.35057</td>\n",
       "      <td>0.40267</td>\n",
       "      <td>0.48191</td>\n",
       "      <td>0.59728</td>\n",
       "      <td>0.06086</td>\n",
       "      <td>0.14516</td>\n",
       "      <td>0.21618</td>\n",
       "      <td>0.28373</td>\n",
       "    </tr>\n",
       "    <tr>\n",
       "      <th>2</th>\n",
       "      <td>2014-06-01</td>\n",
       "      <td>0.35520</td>\n",
       "      <td>0.40361</td>\n",
       "      <td>0.48191</td>\n",
       "      <td>0.59728</td>\n",
       "      <td>0.00742</td>\n",
       "      <td>0.15168</td>\n",
       "      <td>0.21708</td>\n",
       "      <td>0.28373</td>\n",
       "    </tr>\n",
       "    <tr>\n",
       "      <th>3</th>\n",
       "      <td>2014-07-01</td>\n",
       "      <td>0.35520</td>\n",
       "      <td>0.40361</td>\n",
       "      <td>0.48191</td>\n",
       "      <td>0.59728</td>\n",
       "      <td>-0.02376</td>\n",
       "      <td>0.14648</td>\n",
       "      <td>0.21829</td>\n",
       "      <td>0.28740</td>\n",
       "    </tr>\n",
       "    <tr>\n",
       "      <th>4</th>\n",
       "      <td>2014-08-01</td>\n",
       "      <td>0.35520</td>\n",
       "      <td>0.40461</td>\n",
       "      <td>0.48191</td>\n",
       "      <td>0.59728</td>\n",
       "      <td>-0.01223</td>\n",
       "      <td>0.14648</td>\n",
       "      <td>0.21980</td>\n",
       "      <td>0.28823</td>\n",
       "    </tr>\n",
       "  </tbody>\n",
       "</table>\n",
       "</div>"
      ],
      "text/plain": [
       "  SIBOR DATE  SIBOR 1M  SIBOR 3M  SIBOR 6M  SIBOR 12M   SOR ON   SOR 1M  \\\n",
       "0 2014-02-01   0.35369   0.40267   0.48191    0.59728  0.04964  0.15485   \n",
       "1 2014-03-01   0.35057   0.40267   0.48191    0.59728  0.06086  0.14516   \n",
       "2 2014-06-01   0.35520   0.40361   0.48191    0.59728  0.00742  0.15168   \n",
       "3 2014-07-01   0.35520   0.40361   0.48191    0.59728 -0.02376  0.14648   \n",
       "4 2014-08-01   0.35520   0.40461   0.48191    0.59728 -0.01223  0.14648   \n",
       "\n",
       "    SOR 3M   SOR 6M  \n",
       "0  0.22406  0.28566  \n",
       "1  0.21618  0.28373  \n",
       "2  0.21708  0.28373  \n",
       "3  0.21829  0.28740  \n",
       "4  0.21980  0.28823  "
      ]
     },
     "execution_count": 120,
     "metadata": {},
     "output_type": "execute_result"
    }
   ],
   "source": [
    "sibor['SIBOR DATE'] = pd.to_datetime(sibor['SIBOR DATE'])\n",
    "sibor.head()"
   ]
  },
  {
   "cell_type": "code",
   "execution_count": 121,
   "metadata": {},
   "outputs": [
    {
     "data": {
      "text/html": [
       "<div>\n",
       "<style scoped>\n",
       "    .dataframe tbody tr th:only-of-type {\n",
       "        vertical-align: middle;\n",
       "    }\n",
       "\n",
       "    .dataframe tbody tr th {\n",
       "        vertical-align: top;\n",
       "    }\n",
       "\n",
       "    .dataframe thead th {\n",
       "        text-align: right;\n",
       "    }\n",
       "</style>\n",
       "<table border=\"1\" class=\"dataframe\">\n",
       "  <thead>\n",
       "    <tr style=\"text-align: right;\">\n",
       "      <th></th>\n",
       "      <th>Month</th>\n",
       "      <th>Value</th>\n",
       "      <th>cpi_lag1</th>\n",
       "      <th>cpi_lag3</th>\n",
       "      <th>cpi_lag6</th>\n",
       "      <th>cpi_lag12</th>\n",
       "      <th>cpi_sma3</th>\n",
       "      <th>cpi_sma6</th>\n",
       "      <th>cpi_sma12</th>\n",
       "      <th>cpi_ema3</th>\n",
       "      <th>cpi_ema6</th>\n",
       "      <th>cpi_ema12</th>\n",
       "    </tr>\n",
       "  </thead>\n",
       "  <tbody>\n",
       "    <tr>\n",
       "      <th>0</th>\n",
       "      <td>1961-01-01</td>\n",
       "      <td>24.542</td>\n",
       "      <td>NaN</td>\n",
       "      <td>NaN</td>\n",
       "      <td>NaN</td>\n",
       "      <td>NaN</td>\n",
       "      <td>NaN</td>\n",
       "      <td>NaN</td>\n",
       "      <td>NaN</td>\n",
       "      <td>24.542000</td>\n",
       "      <td>24.542000</td>\n",
       "      <td>24.542000</td>\n",
       "    </tr>\n",
       "    <tr>\n",
       "      <th>1</th>\n",
       "      <td>1961-02-01</td>\n",
       "      <td>24.565</td>\n",
       "      <td>24.542</td>\n",
       "      <td>NaN</td>\n",
       "      <td>NaN</td>\n",
       "      <td>NaN</td>\n",
       "      <td>NaN</td>\n",
       "      <td>NaN</td>\n",
       "      <td>NaN</td>\n",
       "      <td>24.553500</td>\n",
       "      <td>24.548571</td>\n",
       "      <td>24.545538</td>\n",
       "    </tr>\n",
       "    <tr>\n",
       "      <th>2</th>\n",
       "      <td>1961-03-01</td>\n",
       "      <td>24.585</td>\n",
       "      <td>24.565</td>\n",
       "      <td>24.542</td>\n",
       "      <td>NaN</td>\n",
       "      <td>NaN</td>\n",
       "      <td>24.564000</td>\n",
       "      <td>NaN</td>\n",
       "      <td>NaN</td>\n",
       "      <td>24.569250</td>\n",
       "      <td>24.558980</td>\n",
       "      <td>24.551609</td>\n",
       "    </tr>\n",
       "    <tr>\n",
       "      <th>3</th>\n",
       "      <td>1961-04-01</td>\n",
       "      <td>24.187</td>\n",
       "      <td>24.585</td>\n",
       "      <td>24.565</td>\n",
       "      <td>24.542</td>\n",
       "      <td>NaN</td>\n",
       "      <td>24.445667</td>\n",
       "      <td>NaN</td>\n",
       "      <td>NaN</td>\n",
       "      <td>24.378125</td>\n",
       "      <td>24.452700</td>\n",
       "      <td>24.495516</td>\n",
       "    </tr>\n",
       "    <tr>\n",
       "      <th>4</th>\n",
       "      <td>1961-05-01</td>\n",
       "      <td>24.053</td>\n",
       "      <td>24.187</td>\n",
       "      <td>24.585</td>\n",
       "      <td>24.565</td>\n",
       "      <td>NaN</td>\n",
       "      <td>24.275000</td>\n",
       "      <td>NaN</td>\n",
       "      <td>NaN</td>\n",
       "      <td>24.215563</td>\n",
       "      <td>24.338500</td>\n",
       "      <td>24.427436</td>\n",
       "    </tr>\n",
       "  </tbody>\n",
       "</table>\n",
       "</div>"
      ],
      "text/plain": [
       "       Month   Value  cpi_lag1  cpi_lag3  cpi_lag6  cpi_lag12   cpi_sma3  \\\n",
       "0 1961-01-01  24.542       NaN       NaN       NaN        NaN        NaN   \n",
       "1 1961-02-01  24.565    24.542       NaN       NaN        NaN        NaN   \n",
       "2 1961-03-01  24.585    24.565    24.542       NaN        NaN  24.564000   \n",
       "3 1961-04-01  24.187    24.585    24.565    24.542        NaN  24.445667   \n",
       "4 1961-05-01  24.053    24.187    24.585    24.565        NaN  24.275000   \n",
       "\n",
       "   cpi_sma6  cpi_sma12   cpi_ema3   cpi_ema6  cpi_ema12  \n",
       "0       NaN        NaN  24.542000  24.542000  24.542000  \n",
       "1       NaN        NaN  24.553500  24.548571  24.545538  \n",
       "2       NaN        NaN  24.569250  24.558980  24.551609  \n",
       "3       NaN        NaN  24.378125  24.452700  24.495516  \n",
       "4       NaN        NaN  24.215563  24.338500  24.427436  "
      ]
     },
     "execution_count": 121,
     "metadata": {},
     "output_type": "execute_result"
    }
   ],
   "source": [
    "cpi['Month'] = pd.to_datetime(cpi['Month'])\n",
    "cpi.head()"
   ]
  },
  {
   "cell_type": "code",
   "execution_count": 122,
   "metadata": {},
   "outputs": [],
   "source": [
    "# merge with df\n",
    "df = df.merge(cpi, left_on='sale_date', right_on='Month', how='left')\n",
    "df.drop('Month', axis=1, inplace=True)\n",
    "df = df.merge(sibor, left_on='sale_date', right_on='SIBOR DATE', how='left')\n",
    "\n",
    "# rename Value to cpi   \n",
    "df.rename(columns={'Value': 'cpi'}, inplace=True)\n",
    "\n",
    "df.drop('SIBOR DATE', axis=1, inplace=True)"
   ]
  },
  {
   "cell_type": "code",
   "execution_count": 123,
   "metadata": {},
   "outputs": [
    {
     "name": "stdout",
     "output_type": "stream",
     "text": [
      "Index(['floor_area_sqm', 'remaining_lease', 'resale_price', 'year', 'lat',\n",
      "       'lon', 'cpi', 'cpi_lag1', 'cpi_lag3', 'cpi_lag6', 'cpi_lag12',\n",
      "       'cpi_sma3', 'cpi_sma6', 'cpi_sma12', 'cpi_ema3', 'cpi_ema6',\n",
      "       'cpi_ema12', 'SIBOR 1M', 'SIBOR 3M', 'SIBOR 6M', 'SIBOR 12M', 'SOR ON',\n",
      "       'SOR 1M', 'SOR 3M', 'SOR 6M'],\n",
      "      dtype='object')\n"
     ]
    }
   ],
   "source": [
    "# filter columns with dtype float64 or int64\n",
    "num_cols = df.select_dtypes(include=['float64', 'int64']).columns\n",
    "print(num_cols)\n",
    "to_remove = ['lat', 'lon']\n",
    "num_cols = [col for col in num_cols if col not in to_remove]"
   ]
  },
  {
   "cell_type": "code",
   "execution_count": 128,
   "metadata": {},
   "outputs": [
    {
     "name": "stdout",
     "output_type": "stream",
     "text": [
      "(143396, 107)\n",
      "(32445, 107)\n"
     ]
    }
   ],
   "source": [
    "train_split = df[df['sale_date'] < datetime(2023, 1, 1)]\n",
    "test_split = df[df['sale_date'] >= datetime(2023, 1, 1)]\n",
    "\n",
    "testing_dates = test_split['sale_date']\n",
    "\n",
    "print(train_split.shape)\n",
    "print(test_split.shape)\n"
   ]
  },
  {
   "cell_type": "code",
   "execution_count": 125,
   "metadata": {},
   "outputs": [],
   "source": [
    "from sklearn.preprocessing import StandardScaler\n",
    "\n",
    "scaler = StandardScaler()\n",
    "scaler = scaler.fit(train_split[num_cols])\n",
    "\n",
    "train_split_scaled = train_split.copy()\n",
    "test_split_scaled = test_split.copy()\n",
    "train_split_scaled[num_cols] = scaler.transform(train_split[num_cols])\n",
    "test_split_scaled[num_cols] = scaler.transform(test_split[num_cols])"
   ]
  },
  {
   "cell_type": "code",
   "execution_count": 126,
   "metadata": {},
   "outputs": [],
   "source": [
    "X_train, y_train = train_split_scaled.drop(['resale_price'], axis=1), train_split_scaled['resale_price']\n",
    "X_test, y_test = test_split_scaled.drop(['resale_price'], axis=1), test_split_scaled['resale_price']\n",
    "\n",
    "X_train.drop('sale_date', axis=1, inplace=True)\n",
    "X_test.drop('sale_date', axis=1, inplace=True)"
   ]
  },
  {
   "cell_type": "code",
   "execution_count": 129,
   "metadata": {},
   "outputs": [
    {
     "data": {
      "image/png": "[encoded data removed]",
      "text/plain": [
       "<Figure size 1000x500 with 1 Axes>"
      ]
     },
     "metadata": {},
     "output_type": "display_data"
    },
    {
     "name": "stdout",
     "output_type": "stream",
     "text": [
      "MAE: 0.19630337104889625\n",
      "MSE: 0.07085355839569242\n",
      "MAPE: 0.7824820738738789\n"
     ]
    }
   ],
   "source": [
    "from xgboost import XGBRegressor\n",
    "from sklearn.metrics import mean_absolute_error, mean_absolute_percentage_error, mean_squared_error\n",
    "import matplotlib.pyplot as plt\n",
    "\n",
    "xgb = XGBRegressor(objective='reg:squarederror', n_estimators=1000)\n",
    "xgb.fit(X_train, y_train)\n",
    "y_pred = xgb.predict(X_test)\n",
    "\n",
    "\n",
    "def evaluate_model(y_test, prediction):\n",
    "  print(f\"MAE: {mean_absolute_error(y_test, prediction)}\")\n",
    "  print(f\"MSE: {mean_squared_error(y_test, prediction)}\")\n",
    "  print(f\"MAPE: {mean_absolute_percentage_error(y_test, prediction)}\")\n",
    "\n",
    "def plot_predictions(testing_dates, y_test, prediction):\n",
    "  df_test = pd.DataFrame({\"date\": testing_dates, \"actual\": y_test, \"prediction\": prediction })\n",
    "  figure, ax = plt.subplots(figsize=(10, 5))\n",
    "  df_test.plot(ax=ax, label=\"Actual\", x=\"date\", y=\"actual\")\n",
    "  df_test.plot(ax=ax, label=\"Prediction\", x=\"date\", y=\"prediction\")\n",
    "  plt.legend([\"Actual\", \"Prediction\"])\n",
    "  plt.show()\n",
    "\n",
    "plot_predictions(testing_dates, y_test, y_pred)\n",
    "evaluate_model(y_test, y_pred)"
   ]
  },
  {
   "cell_type": "code",
   "execution_count": 131,
   "metadata": {},
   "outputs": [
    {
     "name": "stdout",
     "output_type": "stream",
     "text": [
      "[LightGBM] [Warning] Found whitespace in feature_names, replace with underlines\n",
      "[LightGBM] [Info] Auto-choosing row-wise multi-threading, the overhead of testing was 0.002986 seconds.\n",
      "You can set `force_row_wise=true` to remove the overhead.\n",
      "And if memory is not enough, you can set `force_col_wise=true`.\n",
      "[LightGBM] [Info] Total Bins 2193\n",
      "[LightGBM] [Info] Number of data points in the train set: 143396, number of used features: 101\n",
      "[LightGBM] [Info] Start training from score -0.000000\n"
     ]
    },
    {
     "data": {
      "image/png": "[encoded data removed]",
      "text/plain": [
       "<Figure size 1000x500 with 1 Axes>"
      ]
     },
     "metadata": {},
     "output_type": "display_data"
    },
    {
     "name": "stdout",
     "output_type": "stream",
     "text": [
      "MAE: 0.25077306434017477\n",
      "MSE: 0.1313070051825276\n",
      "MAPE: 0.8338018959139062\n"
     ]
    }
   ],
   "source": [
    "import lightgbm as lgbm\n",
    "\n",
    "lgb_model = lgbm.LGBMRegressor()\n",
    "lgb_model.fit(X_train, y_train)\n",
    "y_pred = lgb_model.predict(X_test)\n",
    "plot_predictions(testing_dates, y_test, y_pred)\n",
    "evaluate_model(y_test, y_pred)"
   ]
  },
  {
   "cell_type": "markdown",
   "metadata": {},
   "source": [
    "<font color=\"yellow\">\n",
    "In conclusion, XGBoost is the best model!\n",
    "</font>"
   ]
  }
 ],
 "metadata": {
  "kernelspec": {
   "display_name": "base",
   "language": "python",
   "name": "python3"
  },
  "language_info": {
   "codemirror_mode": {
    "name": "ipython",
    "version": 3
   },
   "file_extension": ".py",
   "mimetype": "text/x-python",
   "name": "python",
   "nbconvert_exporter": "python",
   "pygments_lexer": "ipython3",
   "version": "3.9.18"
  }
 },
 "nbformat": 4,
 "nbformat_minor": 2
}
